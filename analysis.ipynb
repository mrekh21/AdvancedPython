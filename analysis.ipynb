{
 "cells": [
  {
   "cell_type": "code",
   "execution_count": 2,
   "id": "initial_id",
   "metadata": {
    "collapsed": true,
    "ExecuteTime": {
     "end_time": "2024-11-05T11:53:31.371411Z",
     "start_time": "2024-11-05T11:53:28.071796400Z"
    }
   },
   "outputs": [],
   "source": [
    "import pandas as pd"
   ]
  },
  {
   "cell_type": "code",
   "outputs": [
    {
     "data": {
      "text/plain": "  channel_name  channel_id\n0     in-store           1\n1          web           2\n2   mobile app           3",
      "text/html": "<div>\n<style scoped>\n    .dataframe tbody tr th:only-of-type {\n        vertical-align: middle;\n    }\n\n    .dataframe tbody tr th {\n        vertical-align: top;\n    }\n\n    .dataframe thead th {\n        text-align: right;\n    }\n</style>\n<table border=\"1\" class=\"dataframe\">\n  <thead>\n    <tr style=\"text-align: right;\">\n      <th></th>\n      <th>channel_name</th>\n      <th>channel_id</th>\n    </tr>\n  </thead>\n  <tbody>\n    <tr>\n      <th>0</th>\n      <td>in-store</td>\n      <td>1</td>\n    </tr>\n    <tr>\n      <th>1</th>\n      <td>web</td>\n      <td>2</td>\n    </tr>\n    <tr>\n      <th>2</th>\n      <td>mobile app</td>\n      <td>3</td>\n    </tr>\n  </tbody>\n</table>\n</div>"
     },
     "execution_count": 3,
     "metadata": {},
     "output_type": "execute_result"
    }
   ],
   "source": [
    "channels = pd.read_parquet(\"./my_dbt_project/models/data/channels.parquet\")\n",
    "channels.head()"
   ],
   "metadata": {
    "collapsed": false,
    "ExecuteTime": {
     "end_time": "2024-11-05T10:23:35.261731300Z",
     "start_time": "2024-11-05T10:23:35.166199800Z"
    }
   },
   "id": "bc00ae6a23415555",
   "execution_count": 3
  },
  {
   "cell_type": "code",
   "outputs": [
    {
     "data": {
      "text/plain": "              Dropped Data\nchannel_name             0\nchannel_id               0",
      "text/html": "<div>\n<style scoped>\n    .dataframe tbody tr th:only-of-type {\n        vertical-align: middle;\n    }\n\n    .dataframe tbody tr th {\n        vertical-align: top;\n    }\n\n    .dataframe thead th {\n        text-align: right;\n    }\n</style>\n<table border=\"1\" class=\"dataframe\">\n  <thead>\n    <tr style=\"text-align: right;\">\n      <th></th>\n      <th>Dropped Data</th>\n    </tr>\n  </thead>\n  <tbody>\n    <tr>\n      <th>channel_name</th>\n      <td>0</td>\n    </tr>\n    <tr>\n      <th>channel_id</th>\n      <td>0</td>\n    </tr>\n  </tbody>\n</table>\n</div>"
     },
     "execution_count": 27,
     "metadata": {},
     "output_type": "execute_result"
    }
   ],
   "source": [
    "pd.DataFrame({\"Dropped Data\": channels.isna().sum()},index=channels.columns)"
   ],
   "metadata": {
    "collapsed": false,
    "ExecuteTime": {
     "end_time": "2024-11-05T10:36:28.136038700Z",
     "start_time": "2024-11-05T10:36:28.072910900Z"
    }
   },
   "id": "cf138e9ce2d0fefb",
   "execution_count": 27
  },
  {
   "cell_type": "code",
   "outputs": [
    {
     "data": {
      "text/plain": "   customer_id first_name last_name                        email\n0            0    Melissa   Pomeroy  Melissa.Pomeroy@example.com\n1            1       Sean     Jones       Sean.Jones@example.com\n2            2        Amy    Molden       Amy.Molden@example.com\n3            3     Johnny    Torres    Johnny.Torres@example.com\n4            4     Jessie    Crouch    Jessie.Crouch@example.com",
      "text/html": "<div>\n<style scoped>\n    .dataframe tbody tr th:only-of-type {\n        vertical-align: middle;\n    }\n\n    .dataframe tbody tr th {\n        vertical-align: top;\n    }\n\n    .dataframe thead th {\n        text-align: right;\n    }\n</style>\n<table border=\"1\" class=\"dataframe\">\n  <thead>\n    <tr style=\"text-align: right;\">\n      <th></th>\n      <th>customer_id</th>\n      <th>first_name</th>\n      <th>last_name</th>\n      <th>email</th>\n    </tr>\n  </thead>\n  <tbody>\n    <tr>\n      <th>0</th>\n      <td>0</td>\n      <td>Melissa</td>\n      <td>Pomeroy</td>\n      <td>Melissa.Pomeroy@example.com</td>\n    </tr>\n    <tr>\n      <th>1</th>\n      <td>1</td>\n      <td>Sean</td>\n      <td>Jones</td>\n      <td>Sean.Jones@example.com</td>\n    </tr>\n    <tr>\n      <th>2</th>\n      <td>2</td>\n      <td>Amy</td>\n      <td>Molden</td>\n      <td>Amy.Molden@example.com</td>\n    </tr>\n    <tr>\n      <th>3</th>\n      <td>3</td>\n      <td>Johnny</td>\n      <td>Torres</td>\n      <td>Johnny.Torres@example.com</td>\n    </tr>\n    <tr>\n      <th>4</th>\n      <td>4</td>\n      <td>Jessie</td>\n      <td>Crouch</td>\n      <td>Jessie.Crouch@example.com</td>\n    </tr>\n  </tbody>\n</table>\n</div>"
     },
     "execution_count": 13,
     "metadata": {},
     "output_type": "execute_result"
    }
   ],
   "source": [
    "customers = pd.read_parquet(\"./my_dbt_project/models/data/customers.parquet\")\n",
    "customers.head()"
   ],
   "metadata": {
    "collapsed": false,
    "ExecuteTime": {
     "end_time": "2024-11-05T10:31:47.767926700Z",
     "start_time": "2024-11-05T10:31:47.611028500Z"
    }
   },
   "id": "5014036c6a39d9c7",
   "execution_count": 13
  },
  {
   "cell_type": "code",
   "outputs": [
    {
     "data": {
      "text/plain": "             Dropped Data\ncustomer_id             0\nfirst_name              0\nlast_name               0\nemail                   0",
      "text/html": "<div>\n<style scoped>\n    .dataframe tbody tr th:only-of-type {\n        vertical-align: middle;\n    }\n\n    .dataframe tbody tr th {\n        vertical-align: top;\n    }\n\n    .dataframe thead th {\n        text-align: right;\n    }\n</style>\n<table border=\"1\" class=\"dataframe\">\n  <thead>\n    <tr style=\"text-align: right;\">\n      <th></th>\n      <th>Dropped Data</th>\n    </tr>\n  </thead>\n  <tbody>\n    <tr>\n      <th>customer_id</th>\n      <td>0</td>\n    </tr>\n    <tr>\n      <th>first_name</th>\n      <td>0</td>\n    </tr>\n    <tr>\n      <th>last_name</th>\n      <td>0</td>\n    </tr>\n    <tr>\n      <th>email</th>\n      <td>0</td>\n    </tr>\n  </tbody>\n</table>\n</div>"
     },
     "execution_count": 28,
     "metadata": {},
     "output_type": "execute_result"
    }
   ],
   "source": [
    "pd.DataFrame({\"Dropped Data\": customers.isna().sum()},index=customers.columns)"
   ],
   "metadata": {
    "collapsed": false,
    "ExecuteTime": {
     "end_time": "2024-11-05T10:36:36.836667100Z",
     "start_time": "2024-11-05T10:36:36.691513900Z"
    }
   },
   "id": "fa351e3a85308440",
   "execution_count": 28
  },
  {
   "cell_type": "code",
   "outputs": [
    {
     "data": {
      "text/plain": "   transaction_id  customer_id     product_id  amount  qty  channel_id  \\\n0               0        55775     Lipetsk193     2.6    1           2   \n1               1        18582     Tyumen2598     3.6    1           2   \n2               2        10319  Kryvy Rig2257     8.0    5           2   \n3               3        97419   Mykolaiv 495     7.2    4           3   \n4               4        63829     Madrid2005     2.9    1           2   \n\n  bought_date  \n0  2020-03-26  \n1  2021-01-02  \n2  2020-11-09  \n3  2019-01-24  \n4  2020-10-29  ",
      "text/html": "<div>\n<style scoped>\n    .dataframe tbody tr th:only-of-type {\n        vertical-align: middle;\n    }\n\n    .dataframe tbody tr th {\n        vertical-align: top;\n    }\n\n    .dataframe thead th {\n        text-align: right;\n    }\n</style>\n<table border=\"1\" class=\"dataframe\">\n  <thead>\n    <tr style=\"text-align: right;\">\n      <th></th>\n      <th>transaction_id</th>\n      <th>customer_id</th>\n      <th>product_id</th>\n      <th>amount</th>\n      <th>qty</th>\n      <th>channel_id</th>\n      <th>bought_date</th>\n    </tr>\n  </thead>\n  <tbody>\n    <tr>\n      <th>0</th>\n      <td>0</td>\n      <td>55775</td>\n      <td>Lipetsk193</td>\n      <td>2.6</td>\n      <td>1</td>\n      <td>2</td>\n      <td>2020-03-26</td>\n    </tr>\n    <tr>\n      <th>1</th>\n      <td>1</td>\n      <td>18582</td>\n      <td>Tyumen2598</td>\n      <td>3.6</td>\n      <td>1</td>\n      <td>2</td>\n      <td>2021-01-02</td>\n    </tr>\n    <tr>\n      <th>2</th>\n      <td>2</td>\n      <td>10319</td>\n      <td>Kryvy Rig2257</td>\n      <td>8.0</td>\n      <td>5</td>\n      <td>2</td>\n      <td>2020-11-09</td>\n    </tr>\n    <tr>\n      <th>3</th>\n      <td>3</td>\n      <td>97419</td>\n      <td>Mykolaiv 495</td>\n      <td>7.2</td>\n      <td>4</td>\n      <td>3</td>\n      <td>2019-01-24</td>\n    </tr>\n    <tr>\n      <th>4</th>\n      <td>4</td>\n      <td>63829</td>\n      <td>Madrid2005</td>\n      <td>2.9</td>\n      <td>1</td>\n      <td>2</td>\n      <td>2020-10-29</td>\n    </tr>\n  </tbody>\n</table>\n</div>"
     },
     "execution_count": 15,
     "metadata": {},
     "output_type": "execute_result"
    }
   ],
   "source": [
    "main = pd.read_parquet(\"./my_dbt_project/models/data/main.parquet\")\n",
    "main.head()"
   ],
   "metadata": {
    "collapsed": false,
    "ExecuteTime": {
     "end_time": "2024-11-05T10:32:27.419885400Z",
     "start_time": "2024-11-05T10:32:26.613302500Z"
    }
   },
   "id": "38d8274b8a4dbd52",
   "execution_count": 15
  },
  {
   "cell_type": "code",
   "outputs": [
    {
     "data": {
      "text/plain": "                Dropped Data\ntransaction_id             0\ncustomer_id                0\nproduct_id                 0\namount                     0\nqty                        0\nchannel_id                 0\nbought_date                0",
      "text/html": "<div>\n<style scoped>\n    .dataframe tbody tr th:only-of-type {\n        vertical-align: middle;\n    }\n\n    .dataframe tbody tr th {\n        vertical-align: top;\n    }\n\n    .dataframe thead th {\n        text-align: right;\n    }\n</style>\n<table border=\"1\" class=\"dataframe\">\n  <thead>\n    <tr style=\"text-align: right;\">\n      <th></th>\n      <th>Dropped Data</th>\n    </tr>\n  </thead>\n  <tbody>\n    <tr>\n      <th>transaction_id</th>\n      <td>0</td>\n    </tr>\n    <tr>\n      <th>customer_id</th>\n      <td>0</td>\n    </tr>\n    <tr>\n      <th>product_id</th>\n      <td>0</td>\n    </tr>\n    <tr>\n      <th>amount</th>\n      <td>0</td>\n    </tr>\n    <tr>\n      <th>qty</th>\n      <td>0</td>\n    </tr>\n    <tr>\n      <th>channel_id</th>\n      <td>0</td>\n    </tr>\n    <tr>\n      <th>bought_date</th>\n      <td>0</td>\n    </tr>\n  </tbody>\n</table>\n</div>"
     },
     "execution_count": 29,
     "metadata": {},
     "output_type": "execute_result"
    }
   ],
   "source": [
    "pd.DataFrame({\"Dropped Data\": main.isna().sum()},index=main.columns)"
   ],
   "metadata": {
    "collapsed": false,
    "ExecuteTime": {
     "end_time": "2024-11-05T10:36:48.720634600Z",
     "start_time": "2024-11-05T10:36:48.508290900Z"
    }
   },
   "id": "cb2f1f29e3a896e5",
   "execution_count": 29
  },
  {
   "cell_type": "code",
   "outputs": [
    {
     "data": {
      "text/plain": "                                 name             city  price  \\\n0  4x6 Greetings from Moskva (Moscow)  Moskva (Moscow)    4.2   \n1           4x6 Greetings from London           London    4.0   \n2    4x6 Greetings from St Petersburg    St Petersburg    2.7   \n3           4x6 Greetings from Berlin           Berlin    3.9   \n4           4x6 Greetings from Madrid           Madrid    2.8   \n\n         product_id  \n0  Moskva (Moscow)1  \n1           London2  \n2    St Petersburg3  \n3           Berlin4  \n4           Madrid5  ",
      "text/html": "<div>\n<style scoped>\n    .dataframe tbody tr th:only-of-type {\n        vertical-align: middle;\n    }\n\n    .dataframe tbody tr th {\n        vertical-align: top;\n    }\n\n    .dataframe thead th {\n        text-align: right;\n    }\n</style>\n<table border=\"1\" class=\"dataframe\">\n  <thead>\n    <tr style=\"text-align: right;\">\n      <th></th>\n      <th>name</th>\n      <th>city</th>\n      <th>price</th>\n      <th>product_id</th>\n    </tr>\n  </thead>\n  <tbody>\n    <tr>\n      <th>0</th>\n      <td>4x6 Greetings from Moskva (Moscow)</td>\n      <td>Moskva (Moscow)</td>\n      <td>4.2</td>\n      <td>Moskva (Moscow)1</td>\n    </tr>\n    <tr>\n      <th>1</th>\n      <td>4x6 Greetings from London</td>\n      <td>London</td>\n      <td>4.0</td>\n      <td>London2</td>\n    </tr>\n    <tr>\n      <th>2</th>\n      <td>4x6 Greetings from St Petersburg</td>\n      <td>St Petersburg</td>\n      <td>2.7</td>\n      <td>St Petersburg3</td>\n    </tr>\n    <tr>\n      <th>3</th>\n      <td>4x6 Greetings from Berlin</td>\n      <td>Berlin</td>\n      <td>3.9</td>\n      <td>Berlin4</td>\n    </tr>\n    <tr>\n      <th>4</th>\n      <td>4x6 Greetings from Madrid</td>\n      <td>Madrid</td>\n      <td>2.8</td>\n      <td>Madrid5</td>\n    </tr>\n  </tbody>\n</table>\n</div>"
     },
     "execution_count": 17,
     "metadata": {},
     "output_type": "execute_result"
    }
   ],
   "source": [
    "products = pd.read_parquet(\"./my_dbt_project/models/data/products.parquet\")\n",
    "products.head()"
   ],
   "metadata": {
    "collapsed": false,
    "ExecuteTime": {
     "end_time": "2024-11-05T10:33:05.996022Z",
     "start_time": "2024-11-05T10:33:05.934167500Z"
    }
   },
   "id": "6ad2dedb80ed5f08",
   "execution_count": 17
  },
  {
   "cell_type": "code",
   "outputs": [
    {
     "data": {
      "text/plain": "            Dropped Data\nname                   0\ncity                   0\nprice                  0\nproduct_id             0",
      "text/html": "<div>\n<style scoped>\n    .dataframe tbody tr th:only-of-type {\n        vertical-align: middle;\n    }\n\n    .dataframe tbody tr th {\n        vertical-align: top;\n    }\n\n    .dataframe thead th {\n        text-align: right;\n    }\n</style>\n<table border=\"1\" class=\"dataframe\">\n  <thead>\n    <tr style=\"text-align: right;\">\n      <th></th>\n      <th>Dropped Data</th>\n    </tr>\n  </thead>\n  <tbody>\n    <tr>\n      <th>name</th>\n      <td>0</td>\n    </tr>\n    <tr>\n      <th>city</th>\n      <td>0</td>\n    </tr>\n    <tr>\n      <th>price</th>\n      <td>0</td>\n    </tr>\n    <tr>\n      <th>product_id</th>\n      <td>0</td>\n    </tr>\n  </tbody>\n</table>\n</div>"
     },
     "execution_count": 30,
     "metadata": {},
     "output_type": "execute_result"
    }
   ],
   "source": [
    "pd.DataFrame({\"Dropped Data\": products.isna().sum()},index=products.columns)"
   ],
   "metadata": {
    "collapsed": false,
    "ExecuteTime": {
     "end_time": "2024-11-05T10:37:00.435490800Z",
     "start_time": "2024-11-05T10:37:00.390867500Z"
    }
   },
   "id": "75d00782e4479eee",
   "execution_count": 30
  },
  {
   "cell_type": "code",
   "outputs": [
    {
     "data": {
      "text/plain": "   reseller_id                             reseller_name  commission_pct\n0         1001            Imaginary Street Press Company            0.15\n1         1002        European Example Press Corporation            0.17\n2         1003   Scandinavian Legendary Printing Company            0.14\n3         1004  Mediterranean Postcard Press Association            0.16",
      "text/html": "<div>\n<style scoped>\n    .dataframe tbody tr th:only-of-type {\n        vertical-align: middle;\n    }\n\n    .dataframe tbody tr th {\n        vertical-align: top;\n    }\n\n    .dataframe thead th {\n        text-align: right;\n    }\n</style>\n<table border=\"1\" class=\"dataframe\">\n  <thead>\n    <tr style=\"text-align: right;\">\n      <th></th>\n      <th>reseller_id</th>\n      <th>reseller_name</th>\n      <th>commission_pct</th>\n    </tr>\n  </thead>\n  <tbody>\n    <tr>\n      <th>0</th>\n      <td>1001</td>\n      <td>Imaginary Street Press Company</td>\n      <td>0.15</td>\n    </tr>\n    <tr>\n      <th>1</th>\n      <td>1002</td>\n      <td>European Example Press Corporation</td>\n      <td>0.17</td>\n    </tr>\n    <tr>\n      <th>2</th>\n      <td>1003</td>\n      <td>Scandinavian Legendary Printing Company</td>\n      <td>0.14</td>\n    </tr>\n    <tr>\n      <th>3</th>\n      <td>1004</td>\n      <td>Mediterranean Postcard Press Association</td>\n      <td>0.16</td>\n    </tr>\n  </tbody>\n</table>\n</div>"
     },
     "execution_count": 20,
     "metadata": {},
     "output_type": "execute_result"
    }
   ],
   "source": [
    "resellers = pd.read_parquet(\"./my_dbt_project/models/data/resellers.parquet\")\n",
    "resellers.head()"
   ],
   "metadata": {
    "collapsed": false,
    "ExecuteTime": {
     "end_time": "2024-11-05T10:33:49.080393900Z",
     "start_time": "2024-11-05T10:33:48.920548Z"
    }
   },
   "id": "7901ea0a59ad7855",
   "execution_count": 20
  },
  {
   "cell_type": "code",
   "outputs": [
    {
     "data": {
      "text/plain": "                Dropped Data\nreseller_id                0\nreseller_name              0\ncommission_pct             0",
      "text/html": "<div>\n<style scoped>\n    .dataframe tbody tr th:only-of-type {\n        vertical-align: middle;\n    }\n\n    .dataframe tbody tr th {\n        vertical-align: top;\n    }\n\n    .dataframe thead th {\n        text-align: right;\n    }\n</style>\n<table border=\"1\" class=\"dataframe\">\n  <thead>\n    <tr style=\"text-align: right;\">\n      <th></th>\n      <th>Dropped Data</th>\n    </tr>\n  </thead>\n  <tbody>\n    <tr>\n      <th>reseller_id</th>\n      <td>0</td>\n    </tr>\n    <tr>\n      <th>reseller_name</th>\n      <td>0</td>\n    </tr>\n    <tr>\n      <th>commission_pct</th>\n      <td>0</td>\n    </tr>\n  </tbody>\n</table>\n</div>"
     },
     "execution_count": 31,
     "metadata": {},
     "output_type": "execute_result"
    }
   ],
   "source": [
    "pd.DataFrame({\"Dropped Data\": resellers.isna().sum()},index=resellers.columns)"
   ],
   "metadata": {
    "collapsed": false,
    "ExecuteTime": {
     "end_time": "2024-11-05T10:37:10.316094500Z",
     "start_time": "2024-11-05T10:37:10.255243Z"
    }
   },
   "id": "e37d82cd527d2f",
   "execution_count": 31
  },
  {
   "cell_type": "code",
   "outputs": [
    {
     "data": {
      "text/plain": "                              Product name  Quantity  Total amount  \\\n0            5.5x8.5 Just settled in Minsk         3           5.7   \n1          4x6 Merry Christmas from London         3           6.6   \n2    4.25x6 Merry Christmas from Barcelona         5          17.5   \n3         4x6 Come visit me in Novosibirsk         1           1.8   \n4  4.25x6 All the love from Milano (Milan)         1           3.8   \n\n  Sales Channel Customer First Name Customer Last Name  \\\n0    mobile app              Donald             Fellin   \n1      in-store            Lawrence              Wendt   \n2    mobile app             Theresa                Lee   \n3    mobile app             Earnest           Peterson   \n4           web             Dorinda               Mach   \n\n                 Customer Email     Series City Created Date  Reseller ID  \\\n0     Donald.Fellin@example.com           Minsk   2019-04-01         1001   \n1    Lawrence.Wendt@example.com          London   2019-11-09         1001   \n2       Theresa.Lee@example.com       Barcelona   2020-05-17         1001   \n3  Earnest.Peterson@example.com     Novosibirsk   2019-02-21         1001   \n4      Dorinda.Mach@example.com  Milano (Milan)   2019-12-11         1001   \n\n   Transaction ID  \n0               0  \n1               1  \n2               2  \n3               3  \n4               4  ",
      "text/html": "<div>\n<style scoped>\n    .dataframe tbody tr th:only-of-type {\n        vertical-align: middle;\n    }\n\n    .dataframe tbody tr th {\n        vertical-align: top;\n    }\n\n    .dataframe thead th {\n        text-align: right;\n    }\n</style>\n<table border=\"1\" class=\"dataframe\">\n  <thead>\n    <tr style=\"text-align: right;\">\n      <th></th>\n      <th>Product name</th>\n      <th>Quantity</th>\n      <th>Total amount</th>\n      <th>Sales Channel</th>\n      <th>Customer First Name</th>\n      <th>Customer Last Name</th>\n      <th>Customer Email</th>\n      <th>Series City</th>\n      <th>Created Date</th>\n      <th>Reseller ID</th>\n      <th>Transaction ID</th>\n    </tr>\n  </thead>\n  <tbody>\n    <tr>\n      <th>0</th>\n      <td>5.5x8.5 Just settled in Minsk</td>\n      <td>3</td>\n      <td>5.7</td>\n      <td>mobile app</td>\n      <td>Donald</td>\n      <td>Fellin</td>\n      <td>Donald.Fellin@example.com</td>\n      <td>Minsk</td>\n      <td>2019-04-01</td>\n      <td>1001</td>\n      <td>0</td>\n    </tr>\n    <tr>\n      <th>1</th>\n      <td>4x6 Merry Christmas from London</td>\n      <td>3</td>\n      <td>6.6</td>\n      <td>in-store</td>\n      <td>Lawrence</td>\n      <td>Wendt</td>\n      <td>Lawrence.Wendt@example.com</td>\n      <td>London</td>\n      <td>2019-11-09</td>\n      <td>1001</td>\n      <td>1</td>\n    </tr>\n    <tr>\n      <th>2</th>\n      <td>4.25x6 Merry Christmas from Barcelona</td>\n      <td>5</td>\n      <td>17.5</td>\n      <td>mobile app</td>\n      <td>Theresa</td>\n      <td>Lee</td>\n      <td>Theresa.Lee@example.com</td>\n      <td>Barcelona</td>\n      <td>2020-05-17</td>\n      <td>1001</td>\n      <td>2</td>\n    </tr>\n    <tr>\n      <th>3</th>\n      <td>4x6 Come visit me in Novosibirsk</td>\n      <td>1</td>\n      <td>1.8</td>\n      <td>mobile app</td>\n      <td>Earnest</td>\n      <td>Peterson</td>\n      <td>Earnest.Peterson@example.com</td>\n      <td>Novosibirsk</td>\n      <td>2019-02-21</td>\n      <td>1001</td>\n      <td>3</td>\n    </tr>\n    <tr>\n      <th>4</th>\n      <td>4.25x6 All the love from Milano (Milan)</td>\n      <td>1</td>\n      <td>3.8</td>\n      <td>web</td>\n      <td>Dorinda</td>\n      <td>Mach</td>\n      <td>Dorinda.Mach@example.com</td>\n      <td>Milano (Milan)</td>\n      <td>2019-12-11</td>\n      <td>1001</td>\n      <td>4</td>\n    </tr>\n  </tbody>\n</table>\n</div>"
     },
     "execution_count": 22,
     "metadata": {},
     "output_type": "execute_result"
    }
   ],
   "source": [
    "resellers_type1 = pd.read_parquet(\"./my_dbt_project/models/data/resellers_type1.parquet\")\n",
    "resellers_type1.head()"
   ],
   "metadata": {
    "collapsed": false,
    "ExecuteTime": {
     "end_time": "2024-11-05T10:34:22.275018700Z",
     "start_time": "2024-11-05T10:34:21.946926300Z"
    }
   },
   "id": "6773c6bd565e6d3a",
   "execution_count": 22
  },
  {
   "cell_type": "code",
   "outputs": [
    {
     "data": {
      "text/plain": "                     Dropped Data\nProduct name                    0\nQuantity                        0\nTotal amount                    0\nSales Channel                   0\nCustomer First Name             0\nCustomer Last Name              0\nCustomer Email                  0\nSeries City                     0\nCreated Date                    0\nReseller ID                     0\nTransaction ID                  0",
      "text/html": "<div>\n<style scoped>\n    .dataframe tbody tr th:only-of-type {\n        vertical-align: middle;\n    }\n\n    .dataframe tbody tr th {\n        vertical-align: top;\n    }\n\n    .dataframe thead th {\n        text-align: right;\n    }\n</style>\n<table border=\"1\" class=\"dataframe\">\n  <thead>\n    <tr style=\"text-align: right;\">\n      <th></th>\n      <th>Dropped Data</th>\n    </tr>\n  </thead>\n  <tbody>\n    <tr>\n      <th>Product name</th>\n      <td>0</td>\n    </tr>\n    <tr>\n      <th>Quantity</th>\n      <td>0</td>\n    </tr>\n    <tr>\n      <th>Total amount</th>\n      <td>0</td>\n    </tr>\n    <tr>\n      <th>Sales Channel</th>\n      <td>0</td>\n    </tr>\n    <tr>\n      <th>Customer First Name</th>\n      <td>0</td>\n    </tr>\n    <tr>\n      <th>Customer Last Name</th>\n      <td>0</td>\n    </tr>\n    <tr>\n      <th>Customer Email</th>\n      <td>0</td>\n    </tr>\n    <tr>\n      <th>Series City</th>\n      <td>0</td>\n    </tr>\n    <tr>\n      <th>Created Date</th>\n      <td>0</td>\n    </tr>\n    <tr>\n      <th>Reseller ID</th>\n      <td>0</td>\n    </tr>\n    <tr>\n      <th>Transaction ID</th>\n      <td>0</td>\n    </tr>\n  </tbody>\n</table>\n</div>"
     },
     "execution_count": 32,
     "metadata": {},
     "output_type": "execute_result"
    }
   ],
   "source": [
    "pd.DataFrame({\"Dropped Data\": resellers_type1.isna().sum()},index=resellers_type1.columns)"
   ],
   "metadata": {
    "collapsed": false,
    "ExecuteTime": {
     "end_time": "2024-11-05T10:37:21.422530800Z",
     "start_time": "2024-11-05T10:37:21.179527900Z"
    }
   },
   "id": "4d077b8eea89ce58",
   "execution_count": 32
  },
  {
   "cell_type": "code",
   "outputs": [
    {
     "data": {
      "text/plain": "       date  reseller-id                                      productName  \\\n0  20190623         1003                      4x6 Greetings from Hannover   \n1  20190717         1003  4x6 Merry Christmas from Kobenhavn (Copenhagen)   \n2  20200906         1003              5x7 Just settled in Napoli (Naples)   \n3  20190724         1003                         4x6 Just settled in Roma   \n4  20210120         1003                      4x6 All the love from Sofia   \n\n   qty  totalAmount salesChannel  \\\n0    4          8.8          web   \n1    2          5.4   mobile app   \n2    5          9.5     in-store   \n3    2          5.0   mobile app   \n4    4         14.0   mobile app   \n\n                                            customer dateCreated  \\\n0  {'email': 'Roger.Munoz@example.com', 'firstnam...    20190623   \n1  {'email': 'Barbara.Lowe@example.com', 'firstna...    20190717   \n2  {'email': 'Gaylene.Lambert@example.com', 'firs...    20200906   \n3  {'email': 'Cedrick.Rogers@example.com', 'first...    20190724   \n4  {'email': 'Donald.Mckillop@example.com', 'firs...    20210120   \n\n               seriesCity Created Date  transactionID  \n0                Hannover   2019-06-23              0  \n1  Kobenhavn (Copenhagen)   2019-07-17              1  \n2         Napoli (Naples)   2020-09-06              2  \n3                    Roma   2019-07-24              3  \n4                   Sofia   2021-01-20              4  ",
      "text/html": "<div>\n<style scoped>\n    .dataframe tbody tr th:only-of-type {\n        vertical-align: middle;\n    }\n\n    .dataframe tbody tr th {\n        vertical-align: top;\n    }\n\n    .dataframe thead th {\n        text-align: right;\n    }\n</style>\n<table border=\"1\" class=\"dataframe\">\n  <thead>\n    <tr style=\"text-align: right;\">\n      <th></th>\n      <th>date</th>\n      <th>reseller-id</th>\n      <th>productName</th>\n      <th>qty</th>\n      <th>totalAmount</th>\n      <th>salesChannel</th>\n      <th>customer</th>\n      <th>dateCreated</th>\n      <th>seriesCity</th>\n      <th>Created Date</th>\n      <th>transactionID</th>\n    </tr>\n  </thead>\n  <tbody>\n    <tr>\n      <th>0</th>\n      <td>20190623</td>\n      <td>1003</td>\n      <td>4x6 Greetings from Hannover</td>\n      <td>4</td>\n      <td>8.8</td>\n      <td>web</td>\n      <td>{'email': 'Roger.Munoz@example.com', 'firstnam...</td>\n      <td>20190623</td>\n      <td>Hannover</td>\n      <td>2019-06-23</td>\n      <td>0</td>\n    </tr>\n    <tr>\n      <th>1</th>\n      <td>20190717</td>\n      <td>1003</td>\n      <td>4x6 Merry Christmas from Kobenhavn (Copenhagen)</td>\n      <td>2</td>\n      <td>5.4</td>\n      <td>mobile app</td>\n      <td>{'email': 'Barbara.Lowe@example.com', 'firstna...</td>\n      <td>20190717</td>\n      <td>Kobenhavn (Copenhagen)</td>\n      <td>2019-07-17</td>\n      <td>1</td>\n    </tr>\n    <tr>\n      <th>2</th>\n      <td>20200906</td>\n      <td>1003</td>\n      <td>5x7 Just settled in Napoli (Naples)</td>\n      <td>5</td>\n      <td>9.5</td>\n      <td>in-store</td>\n      <td>{'email': 'Gaylene.Lambert@example.com', 'firs...</td>\n      <td>20200906</td>\n      <td>Napoli (Naples)</td>\n      <td>2020-09-06</td>\n      <td>2</td>\n    </tr>\n    <tr>\n      <th>3</th>\n      <td>20190724</td>\n      <td>1003</td>\n      <td>4x6 Just settled in Roma</td>\n      <td>2</td>\n      <td>5.0</td>\n      <td>mobile app</td>\n      <td>{'email': 'Cedrick.Rogers@example.com', 'first...</td>\n      <td>20190724</td>\n      <td>Roma</td>\n      <td>2019-07-24</td>\n      <td>3</td>\n    </tr>\n    <tr>\n      <th>4</th>\n      <td>20210120</td>\n      <td>1003</td>\n      <td>4x6 All the love from Sofia</td>\n      <td>4</td>\n      <td>14.0</td>\n      <td>mobile app</td>\n      <td>{'email': 'Donald.Mckillop@example.com', 'firs...</td>\n      <td>20210120</td>\n      <td>Sofia</td>\n      <td>2021-01-20</td>\n      <td>4</td>\n    </tr>\n  </tbody>\n</table>\n</div>"
     },
     "execution_count": 3,
     "metadata": {},
     "output_type": "execute_result"
    }
   ],
   "source": [
    "resellers_type2 = pd.read_parquet(\"./my_dbt_project/models/data/resellers_type2.parquet\")\n",
    "resellers_type2.head()"
   ],
   "metadata": {
    "collapsed": false,
    "ExecuteTime": {
     "end_time": "2024-11-05T11:53:40.272200Z",
     "start_time": "2024-11-05T11:53:36.639735Z"
    }
   },
   "id": "22271720e5d8125e",
   "execution_count": 3
  },
  {
   "cell_type": "code",
   "outputs": [
    {
     "data": {
      "text/plain": "               Dropped Data\ndate                      0\nreseller-id               0\nproductName               0\nqty                       0\ntotalAmount               0\nsalesChannel              0\ncustomer                  0\ndateCreated               0\nseriesCity                0\nCreated Date              0\ntransactionID             0",
      "text/html": "<div>\n<style scoped>\n    .dataframe tbody tr th:only-of-type {\n        vertical-align: middle;\n    }\n\n    .dataframe tbody tr th {\n        vertical-align: top;\n    }\n\n    .dataframe thead th {\n        text-align: right;\n    }\n</style>\n<table border=\"1\" class=\"dataframe\">\n  <thead>\n    <tr style=\"text-align: right;\">\n      <th></th>\n      <th>Dropped Data</th>\n    </tr>\n  </thead>\n  <tbody>\n    <tr>\n      <th>date</th>\n      <td>0</td>\n    </tr>\n    <tr>\n      <th>reseller-id</th>\n      <td>0</td>\n    </tr>\n    <tr>\n      <th>productName</th>\n      <td>0</td>\n    </tr>\n    <tr>\n      <th>qty</th>\n      <td>0</td>\n    </tr>\n    <tr>\n      <th>totalAmount</th>\n      <td>0</td>\n    </tr>\n    <tr>\n      <th>salesChannel</th>\n      <td>0</td>\n    </tr>\n    <tr>\n      <th>customer</th>\n      <td>0</td>\n    </tr>\n    <tr>\n      <th>dateCreated</th>\n      <td>0</td>\n    </tr>\n    <tr>\n      <th>seriesCity</th>\n      <td>0</td>\n    </tr>\n    <tr>\n      <th>Created Date</th>\n      <td>0</td>\n    </tr>\n    <tr>\n      <th>transactionID</th>\n      <td>0</td>\n    </tr>\n  </tbody>\n</table>\n</div>"
     },
     "execution_count": 4,
     "metadata": {},
     "output_type": "execute_result"
    }
   ],
   "source": [
    "pd.DataFrame({\"Dropped Data\": resellers_type2.isna().sum()},index=resellers_type2.columns)"
   ],
   "metadata": {
    "collapsed": false,
    "ExecuteTime": {
     "end_time": "2024-11-05T11:53:44.651884Z",
     "start_time": "2024-11-05T11:53:44.550819200Z"
    }
   },
   "id": "1d494ef73cf61",
   "execution_count": 4
  },
  {
   "cell_type": "code",
   "outputs": [],
   "source": [],
   "metadata": {
    "collapsed": false
   },
   "id": "175ebd6eef9a9b1c"
  }
 ],
 "metadata": {
  "kernelspec": {
   "display_name": "Python 3",
   "language": "python",
   "name": "python3"
  },
  "language_info": {
   "codemirror_mode": {
    "name": "ipython",
    "version": 2
   },
   "file_extension": ".py",
   "mimetype": "text/x-python",
   "name": "python",
   "nbconvert_exporter": "python",
   "pygments_lexer": "ipython2",
   "version": "2.7.6"
  }
 },
 "nbformat": 4,
 "nbformat_minor": 5
}
